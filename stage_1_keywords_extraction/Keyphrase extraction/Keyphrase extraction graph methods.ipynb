{
 "cells": [
  {
   "cell_type": "code",
   "execution_count": 2,
   "id": "3d374855-070e-4185-91b8-1d566495a098",
   "metadata": {
    "id": "3d374855-070e-4185-91b8-1d566495a098"
   },
   "outputs": [],
   "source": [
    "from pathlib import Path\n",
    "import pandas as pd\n",
    "\n",
    "# pip install git+https://github.com/boudinfl/pke.git\n",
    "# pke relies on spacy (>= 3.2.3) for text processing and requires models to be installed:\n",
    "# # download the russian model\n",
    "# python -m spacy download ru_core_news_lg\n",
    "import pke\n",
    "import string\n",
    "import ru_core_news_lg\n",
    "import spacy"
   ]
  },
  {
   "cell_type": "code",
   "execution_count": 13,
   "id": "8e0d81cf-c9b3-4798-a679-14eb86af72a5",
   "metadata": {},
   "outputs": [
    {
     "name": "stdout",
     "output_type": "stream",
     "text": [
      "Collecting ru-core-news-lg==3.7.0\n",
      "  Downloading https://github.com/explosion/spacy-models/releases/download/ru_core_news_lg-3.7.0/ru_core_news_lg-3.7.0-py3-none-any.whl (513.4 MB)\n",
      "\u001b[2K     \u001b[38;2;114;156;31m━━━━━━━━━━━━━━━━━━━━━━━━━━━━━━━━━━━━━\u001b[0m \u001b[32m513.4/513.4 MB\u001b[0m \u001b[31m827.3 kB/s\u001b[0m eta \u001b[36m0:00:00\u001b[0mm eta \u001b[36m0:00:01\u001b[0m[36m0:00:05\u001b[0m\n",
      "\u001b[?25hRequirement already satisfied: spacy<3.8.0,>=3.7.0 in /home/bulatov/.cache/pypoetry/virtualenvs/keytokens-analysis-BmthmCtl-py3.11/lib/python3.11/site-packages (from ru-core-news-lg==3.7.0) (3.7.2)\n",
      "Requirement already satisfied: pymorphy3>=1.0.0 in /home/bulatov/.cache/pypoetry/virtualenvs/keytokens-analysis-BmthmCtl-py3.11/lib/python3.11/site-packages (from ru-core-news-lg==3.7.0) (1.3.1)\n",
      "Requirement already satisfied: dawg-python>=0.7.1 in /home/bulatov/.cache/pypoetry/virtualenvs/keytokens-analysis-BmthmCtl-py3.11/lib/python3.11/site-packages (from pymorphy3>=1.0.0->ru-core-news-lg==3.7.0) (0.7.2)\n",
      "Requirement already satisfied: pymorphy3-dicts-ru in /home/bulatov/.cache/pypoetry/virtualenvs/keytokens-analysis-BmthmCtl-py3.11/lib/python3.11/site-packages (from pymorphy3>=1.0.0->ru-core-news-lg==3.7.0) (2.4.417150.4580142)\n",
      "Requirement already satisfied: spacy-legacy<3.1.0,>=3.0.11 in /home/bulatov/.cache/pypoetry/virtualenvs/keytokens-analysis-BmthmCtl-py3.11/lib/python3.11/site-packages (from spacy<3.8.0,>=3.7.0->ru-core-news-lg==3.7.0) (3.0.12)\n",
      "Requirement already satisfied: spacy-loggers<2.0.0,>=1.0.0 in /home/bulatov/.cache/pypoetry/virtualenvs/keytokens-analysis-BmthmCtl-py3.11/lib/python3.11/site-packages (from spacy<3.8.0,>=3.7.0->ru-core-news-lg==3.7.0) (1.0.5)\n",
      "Requirement already satisfied: murmurhash<1.1.0,>=0.28.0 in /home/bulatov/.cache/pypoetry/virtualenvs/keytokens-analysis-BmthmCtl-py3.11/lib/python3.11/site-packages (from spacy<3.8.0,>=3.7.0->ru-core-news-lg==3.7.0) (1.0.10)\n",
      "Requirement already satisfied: cymem<2.1.0,>=2.0.2 in /home/bulatov/.cache/pypoetry/virtualenvs/keytokens-analysis-BmthmCtl-py3.11/lib/python3.11/site-packages (from spacy<3.8.0,>=3.7.0->ru-core-news-lg==3.7.0) (2.0.8)\n",
      "Requirement already satisfied: preshed<3.1.0,>=3.0.2 in /home/bulatov/.cache/pypoetry/virtualenvs/keytokens-analysis-BmthmCtl-py3.11/lib/python3.11/site-packages (from spacy<3.8.0,>=3.7.0->ru-core-news-lg==3.7.0) (3.0.9)\n",
      "Requirement already satisfied: thinc<8.3.0,>=8.1.8 in /home/bulatov/.cache/pypoetry/virtualenvs/keytokens-analysis-BmthmCtl-py3.11/lib/python3.11/site-packages (from spacy<3.8.0,>=3.7.0->ru-core-news-lg==3.7.0) (8.2.1)\n",
      "Requirement already satisfied: wasabi<1.2.0,>=0.9.1 in /home/bulatov/.cache/pypoetry/virtualenvs/keytokens-analysis-BmthmCtl-py3.11/lib/python3.11/site-packages (from spacy<3.8.0,>=3.7.0->ru-core-news-lg==3.7.0) (1.1.2)\n",
      "Requirement already satisfied: srsly<3.0.0,>=2.4.3 in /home/bulatov/.cache/pypoetry/virtualenvs/keytokens-analysis-BmthmCtl-py3.11/lib/python3.11/site-packages (from spacy<3.8.0,>=3.7.0->ru-core-news-lg==3.7.0) (2.4.8)\n",
      "Requirement already satisfied: catalogue<2.1.0,>=2.0.6 in /home/bulatov/.cache/pypoetry/virtualenvs/keytokens-analysis-BmthmCtl-py3.11/lib/python3.11/site-packages (from spacy<3.8.0,>=3.7.0->ru-core-news-lg==3.7.0) (2.0.10)\n",
      "Requirement already satisfied: weasel<0.4.0,>=0.1.0 in /home/bulatov/.cache/pypoetry/virtualenvs/keytokens-analysis-BmthmCtl-py3.11/lib/python3.11/site-packages (from spacy<3.8.0,>=3.7.0->ru-core-news-lg==3.7.0) (0.3.4)\n",
      "Requirement already satisfied: typer<0.10.0,>=0.3.0 in /home/bulatov/.cache/pypoetry/virtualenvs/keytokens-analysis-BmthmCtl-py3.11/lib/python3.11/site-packages (from spacy<3.8.0,>=3.7.0->ru-core-news-lg==3.7.0) (0.9.0)\n",
      "Requirement already satisfied: smart-open<7.0.0,>=5.2.1 in /home/bulatov/.cache/pypoetry/virtualenvs/keytokens-analysis-BmthmCtl-py3.11/lib/python3.11/site-packages (from spacy<3.8.0,>=3.7.0->ru-core-news-lg==3.7.0) (6.4.0)\n",
      "Requirement already satisfied: tqdm<5.0.0,>=4.38.0 in /home/bulatov/.cache/pypoetry/virtualenvs/keytokens-analysis-BmthmCtl-py3.11/lib/python3.11/site-packages (from spacy<3.8.0,>=3.7.0->ru-core-news-lg==3.7.0) (4.66.1)\n",
      "Requirement already satisfied: requests<3.0.0,>=2.13.0 in /home/bulatov/.cache/pypoetry/virtualenvs/keytokens-analysis-BmthmCtl-py3.11/lib/python3.11/site-packages (from spacy<3.8.0,>=3.7.0->ru-core-news-lg==3.7.0) (2.31.0)\n",
      "Requirement already satisfied: pydantic!=1.8,!=1.8.1,<3.0.0,>=1.7.4 in /home/bulatov/.cache/pypoetry/virtualenvs/keytokens-analysis-BmthmCtl-py3.11/lib/python3.11/site-packages (from spacy<3.8.0,>=3.7.0->ru-core-news-lg==3.7.0) (2.5.2)\n",
      "Requirement already satisfied: jinja2 in /home/bulatov/.cache/pypoetry/virtualenvs/keytokens-analysis-BmthmCtl-py3.11/lib/python3.11/site-packages (from spacy<3.8.0,>=3.7.0->ru-core-news-lg==3.7.0) (3.1.2)\n",
      "Requirement already satisfied: setuptools in /home/bulatov/.cache/pypoetry/virtualenvs/keytokens-analysis-BmthmCtl-py3.11/lib/python3.11/site-packages (from spacy<3.8.0,>=3.7.0->ru-core-news-lg==3.7.0) (69.0.2)\n",
      "Requirement already satisfied: packaging>=20.0 in /home/bulatov/.cache/pypoetry/virtualenvs/keytokens-analysis-BmthmCtl-py3.11/lib/python3.11/site-packages (from spacy<3.8.0,>=3.7.0->ru-core-news-lg==3.7.0) (23.2)\n",
      "Requirement already satisfied: langcodes<4.0.0,>=3.2.0 in /home/bulatov/.cache/pypoetry/virtualenvs/keytokens-analysis-BmthmCtl-py3.11/lib/python3.11/site-packages (from spacy<3.8.0,>=3.7.0->ru-core-news-lg==3.7.0) (3.3.0)\n",
      "Requirement already satisfied: numpy>=1.19.0 in /home/bulatov/.cache/pypoetry/virtualenvs/keytokens-analysis-BmthmCtl-py3.11/lib/python3.11/site-packages (from spacy<3.8.0,>=3.7.0->ru-core-news-lg==3.7.0) (1.26.2)\n",
      "Requirement already satisfied: annotated-types>=0.4.0 in /home/bulatov/.cache/pypoetry/virtualenvs/keytokens-analysis-BmthmCtl-py3.11/lib/python3.11/site-packages (from pydantic!=1.8,!=1.8.1,<3.0.0,>=1.7.4->spacy<3.8.0,>=3.7.0->ru-core-news-lg==3.7.0) (0.6.0)\n",
      "Requirement already satisfied: pydantic-core==2.14.5 in /home/bulatov/.cache/pypoetry/virtualenvs/keytokens-analysis-BmthmCtl-py3.11/lib/python3.11/site-packages (from pydantic!=1.8,!=1.8.1,<3.0.0,>=1.7.4->spacy<3.8.0,>=3.7.0->ru-core-news-lg==3.7.0) (2.14.5)\n",
      "Requirement already satisfied: typing-extensions>=4.6.1 in /home/bulatov/.cache/pypoetry/virtualenvs/keytokens-analysis-BmthmCtl-py3.11/lib/python3.11/site-packages (from pydantic!=1.8,!=1.8.1,<3.0.0,>=1.7.4->spacy<3.8.0,>=3.7.0->ru-core-news-lg==3.7.0) (4.9.0)\n",
      "Requirement already satisfied: charset-normalizer<4,>=2 in /home/bulatov/.cache/pypoetry/virtualenvs/keytokens-analysis-BmthmCtl-py3.11/lib/python3.11/site-packages (from requests<3.0.0,>=2.13.0->spacy<3.8.0,>=3.7.0->ru-core-news-lg==3.7.0) (3.3.2)\n",
      "Requirement already satisfied: idna<4,>=2.5 in /home/bulatov/.cache/pypoetry/virtualenvs/keytokens-analysis-BmthmCtl-py3.11/lib/python3.11/site-packages (from requests<3.0.0,>=2.13.0->spacy<3.8.0,>=3.7.0->ru-core-news-lg==3.7.0) (3.6)\n",
      "Requirement already satisfied: urllib3<3,>=1.21.1 in /home/bulatov/.cache/pypoetry/virtualenvs/keytokens-analysis-BmthmCtl-py3.11/lib/python3.11/site-packages (from requests<3.0.0,>=2.13.0->spacy<3.8.0,>=3.7.0->ru-core-news-lg==3.7.0) (2.1.0)\n",
      "Requirement already satisfied: certifi>=2017.4.17 in /home/bulatov/.cache/pypoetry/virtualenvs/keytokens-analysis-BmthmCtl-py3.11/lib/python3.11/site-packages (from requests<3.0.0,>=2.13.0->spacy<3.8.0,>=3.7.0->ru-core-news-lg==3.7.0) (2023.11.17)\n",
      "Requirement already satisfied: blis<0.8.0,>=0.7.8 in /home/bulatov/.cache/pypoetry/virtualenvs/keytokens-analysis-BmthmCtl-py3.11/lib/python3.11/site-packages (from thinc<8.3.0,>=8.1.8->spacy<3.8.0,>=3.7.0->ru-core-news-lg==3.7.0) (0.7.11)\n",
      "Requirement already satisfied: confection<1.0.0,>=0.0.1 in /home/bulatov/.cache/pypoetry/virtualenvs/keytokens-analysis-BmthmCtl-py3.11/lib/python3.11/site-packages (from thinc<8.3.0,>=8.1.8->spacy<3.8.0,>=3.7.0->ru-core-news-lg==3.7.0) (0.1.4)\n",
      "Requirement already satisfied: click<9.0.0,>=7.1.1 in /home/bulatov/.cache/pypoetry/virtualenvs/keytokens-analysis-BmthmCtl-py3.11/lib/python3.11/site-packages (from typer<0.10.0,>=0.3.0->spacy<3.8.0,>=3.7.0->ru-core-news-lg==3.7.0) (8.1.7)\n",
      "Requirement already satisfied: cloudpathlib<0.17.0,>=0.7.0 in /home/bulatov/.cache/pypoetry/virtualenvs/keytokens-analysis-BmthmCtl-py3.11/lib/python3.11/site-packages (from weasel<0.4.0,>=0.1.0->spacy<3.8.0,>=3.7.0->ru-core-news-lg==3.7.0) (0.16.0)\n",
      "Requirement already satisfied: MarkupSafe>=2.0 in /home/bulatov/.cache/pypoetry/virtualenvs/keytokens-analysis-BmthmCtl-py3.11/lib/python3.11/site-packages (from jinja2->spacy<3.8.0,>=3.7.0->ru-core-news-lg==3.7.0) (2.1.3)\n",
      "\u001b[38;5;2m✔ Download and installation successful\u001b[0m\n",
      "You can now load the package via spacy.load('ru_core_news_lg')\n"
     ]
    }
   ],
   "source": [
    "!python -m spacy download ru_core_news_lg"
   ]
  },
  {
   "cell_type": "code",
   "execution_count": 8,
   "id": "c89dccc8-1791-45b4-a008-315d4d08bed1",
   "metadata": {},
   "outputs": [],
   "source": [
    "spacy_model = spacy.load(\"ru_core_news_lg\")"
   ]
  },
  {
   "cell_type": "code",
   "execution_count": 26,
   "id": "3ef7189b-cc01-417c-96f7-d9d6eadbd026",
   "metadata": {
    "id": "af95ca81-b8b0-4f48-a162-9d69d4bf006c"
   },
   "outputs": [],
   "source": [
    "all_df = pd.read_csv(\"dest/all_dataset.csv\", sep=\"\\t\", encoding=\"utf-8\")"
   ]
  },
  {
   "cell_type": "code",
   "execution_count": 27,
   "id": "81e48538-6bbe-472f-86c4-5008b6c40c76",
   "metadata": {
    "id": "81e48538-6bbe-472f-86c4-5008b6c40c76"
   },
   "outputs": [],
   "source": [
    "all_df = all_df[all_df[\"rubrics\"].str.contains('образование_отзывус')].dropna().astype(\"str\").reset_index()"
   ]
  },
  {
   "cell_type": "code",
   "execution_count": 28,
   "id": "7905a3f0-4b89-4fd6-8fe7-1f84d357dd64",
   "metadata": {
    "id": "7905a3f0-4b89-4fd6-8fe7-1f84d357dd64"
   },
   "outputs": [],
   "source": [
    "text = []\n",
    "for i in range(len(all_df)):\n",
    "    text.append([\n",
    "        (w.text, w.pos_)\n",
    "        for w in spacy_model(all_df['text'][i])\n",
    "    ])"
   ]
  },
  {
   "cell_type": "markdown",
   "id": "ca5497f1-4a22-43fc-b730-7942c962dc58",
   "metadata": {
    "id": "ca5497f1-4a22-43fc-b730-7942c962dc58"
   },
   "source": [
    "# TextRank"
   ]
  },
  {
   "cell_type": "code",
   "execution_count": 29,
   "id": "e229ab51-d3c3-49c9-a073-68a6660d1875",
   "metadata": {
    "id": "e229ab51-d3c3-49c9-a073-68a6660d1875",
    "outputId": "dbe8a745-79da-4087-ad67-cefa2a8f62e9"
   },
   "outputs": [
    {
     "name": "stderr",
     "output_type": "stream",
     "text": [
      "WARNING:root:Candidates are generated using 0.33-top\n"
     ]
    },
    {
     "name": "stdout",
     "output_type": "stream",
     "text": [
      "CPU times: user 1.76 s, sys: 22.9 ms, total: 1.78 s\n",
      "Wall time: 1.8 s\n"
     ]
    }
   ],
   "source": [
    "%%time\n",
    "\n",
    "# define the set of valid Part-of-Speeches\n",
    "# pos = {'NOUN', 'PROPN', 'ADJ'}\n",
    "pos = {'NOUN', 'PROPN'}\n",
    "\n",
    "# 1. create a TextRank extractor.\n",
    "extractor_textrank = pke.unsupervised.TextRank()\n",
    "\n",
    "# 2. load the content of the document.\n",
    "extractor_textrank.load_document(input=text,\n",
    "                        language='ru',\n",
    "                        #spacy_model=spacy_model,\n",
    "                        normalization=None)\n",
    "\n",
    "# 3. build the graph representation of the document and rank the words.\n",
    "#    Keyphrase candidates are composed from the 33-percent\n",
    "#    highest-ranked words.\n",
    "extractor_textrank.candidate_weighting(window=4,\n",
    "                              pos=pos,\n",
    "                              top_percent=0.33)\n"
   ]
  },
  {
   "cell_type": "code",
   "execution_count": 30,
   "id": "b2289566-af9b-464b-8a21-e303605a0152",
   "metadata": {
    "id": "b2289566-af9b-464b-8a21-e303605a0152",
    "outputId": "acdf3abc-3fbd-4400-973b-91006894984d"
   },
   "outputs": [
    {
     "data": {
      "text/plain": [
       "[('преподавательница - елена эриковна -', 0.03453057751821664),\n",
       " ('- то дз - просмотр фильма', 0.03313716634585986),\n",
       " ('- студентов электив', 0.032585239906318245),\n",
       " ('онлайн - прокторинг -', 0.03210194627467565),\n",
       " ('теории - электив', 0.031554587275951326),\n",
       " ('онлайн - электив', 0.03128733706461719),\n",
       " ('электив - это дело', 0.030942577283027115),\n",
       " ('электив - просто', 0.03054230951398659),\n",
       " ('- электив', 0.030093613189614083),\n",
       " ('электив -', 0.029929103189614083),\n",
       " ('преподаватель наталья георгиевна -', 0.027448141342669173),\n",
       " ('преподаватель - практик', 0.0272265871716896),\n",
       " ('- преподаватель', 0.026957313332403),\n",
       " ('преподаватель петров в.в. -', 0.026775875604191916),\n",
       " ('преподаватель - очень', 0.02674246374364965),\n",
       " ('проблема - преподаватель', 0.026479717649538857),\n",
       " ('преподаватель -', 0.026203683332403),\n",
       " ('все задания - зачёт', 0.02311830845550301),\n",
       " ('конце курса тест - прокторинг', 0.021985823129272494),\n",
       " ('задания - зачет', 0.0217199986774671),\n",
       " ('- задания', 0.02082584740293012),\n",
       " ('задания -', 0.02035158740293012),\n",
       " ('вопросов - доп баллы', 0.02031071949296994),\n",
       " ('конце семестра -', 0.02025546010258979),\n",
       " ('баллы - иди', 0.019893147520491566),\n",
       " ('минус - баллы', 0.019772809313792675),\n",
       " ('- то баллы', 0.019699635338558858),\n",
       " ('преподавателя - оксана александровна', 0.019626902255114924),\n",
       " ('лекции -', 0.019247108767281893),\n",
       " ('- материала лекций', 0.019222614887567064),\n",
       " ('баллы -', 0.019189576359478475),\n",
       " ('онлайн - курс', 0.019176413997387967),\n",
       " ('знания - понимание процесса образования', 0.01917171381349116),\n",
       " ('виде рок - культуры', 0.01888656439598534),\n",
       " ('пар - это практики', 0.018885700537466656),\n",
       " ('итогам курса - программа', 0.018791522832424565),\n",
       " ('пары -', 0.018748858452744224),\n",
       " ('электива -', 0.018638361491409645),\n",
       " ('- пары', 0.018592758452744225),\n",
       " ('правило - презентации', 0.018554169185896686),\n",
       " ('курс -', 0.018487100122384865),\n",
       " ('- то работы', 0.018441921368326498),\n",
       " ('преподавателя -', 0.018402655682909108),\n",
       " ('задание - проект', 0.018384780013371682),\n",
       " ('- презентации', 0.018344282728751247),\n",
       " ('темы -', 0.018321173623870646),\n",
       " ('рамках лекций - это', 0.01827755129525807),\n",
       " ('презентации -', 0.018263702728751247),\n",
       " ('занятия -', 0.018245274540646676),\n",
       " ('элективе -', 0.018235122649730606),\n",
       " ('курса -', 0.018219493089764744),\n",
       " ('паре -', 0.018189931619110106),\n",
       " ('целом -', 0.018180120335609982),\n",
       " ('темы - все', 0.018158502939934675),\n",
       " ('форма контроля - тесты', 0.018148858475569532),\n",
       " ('елена александровна - просто', 0.01809972239916551),\n",
       " ('знания -', 0.018082716542853133),\n",
       " ('элективе - это', 0.018026224474155524),\n",
       " ('- темы все', 0.017995562939934675),\n",
       " ('целом электив норм', 0.01794701617061039),\n",
       " ('- то информации', 0.017920215594373734),\n",
       " ('многое - многое', 0.017904060894293555),\n",
       " ('выполнение презентаций - докладов', 0.017873849703549622),\n",
       " ('- то заданий', 0.017872097181610407),\n",
       " ('всех любителей рок - музыки', 0.017849447255741148),\n",
       " ('елена эриковна -', 0.01784932167452205),\n",
       " ('студентов -', 0.01783368103306694),\n",
       " ('работа - выступление', 0.017793405215617727),\n",
       " ('- то историю рекламы', 0.01779078557866279),\n",
       " ('работу -', 0.01776112988431735),\n",
       " ('елена александровна -', 0.017759266074793004),\n",
       " ('лекциях - ответы', 0.017740343483930977),\n",
       " ('рок - группы', 0.01773621727966979),\n",
       " ('мини - зачет', 0.017718518830492896),\n",
       " ('пол семестра - упражнения', 0.01771777880567208),\n",
       " ('философия кино - это', 0.017702429361769037),\n",
       " ('практики -', 0.0176945749793434),\n",
       " ('- материал', 0.017667949115647282),\n",
       " ('бизнес - проект', 0.017654352788898785),\n",
       " ('- то навыки', 0.01758567727363248),\n",
       " ('практике - обсуждение', 0.017549676482225145),\n",
       " ('часть -', 0.01753691135285229),\n",
       " ('преподавательница -', 0.017529455843694596),\n",
       " ('онлайн - элективов', 0.017527335442335357),\n",
       " ('- полезность знаний', 0.017520755078579975),\n",
       " ('видео - лекция', 0.01751437163350839),\n",
       " ('доклад - презентацию', 0.017498162376639727),\n",
       " ('- то тему', 0.017493162036030425),\n",
       " ('уровень вёрстки web - сайтов', 0.01747562554344158),\n",
       " ('студентов электив', 0.01746322558995547),\n",
       " ('ос linux - все это', 0.01746174608334841),\n",
       " ('любителям рок - музыки', 0.017447363229419303),\n",
       " ('- задание', 0.017429289604586867),\n",
       " ('мини - проекты', 0.017424886763817215),\n",
       " ('форма контроля - прохождение тестов', 0.01740957833516512),\n",
       " ('работа -', 0.017402978225419793),\n",
       " ('- то задание', 0.017401968583667247),\n",
       " ('раз -', 0.017392562729958146),\n",
       " ('- зачет автоматом', 0.017388149338000862),\n",
       " ('модуля - тест', 0.017349765537255087)]"
      ]
     },
     "execution_count": 30,
     "metadata": {},
     "output_type": "execute_result"
    }
   ],
   "source": [
    "# 4. get the 10-highest scored candidates as keyphrases\n",
    "keyphrases_textrank = extractor_textrank.get_n_best(n=100)\n",
    "keyphrases_textrank"
   ]
  },
  {
   "cell_type": "markdown",
   "id": "7bda01f1-328a-41cd-92b9-d75ca3664d06",
   "metadata": {
    "id": "7bda01f1-328a-41cd-92b9-d75ca3664d06"
   },
   "source": [
    "# TopicRank"
   ]
  },
  {
   "cell_type": "code",
   "execution_count": 31,
   "id": "6482a841-d815-4880-90d9-0f9a53d4b5bd",
   "metadata": {
    "id": "6482a841-d815-4880-90d9-0f9a53d4b5bd",
    "outputId": "2611391a-484e-4316-a615-173367948213"
   },
   "outputs": [
    {
     "name": "stdout",
     "output_type": "stream",
     "text": [
      "CPU times: user 3min 17s, sys: 4.94 s, total: 3min 22s\n",
      "Wall time: 3min 26s\n"
     ]
    }
   ],
   "source": [
    "%%time\n",
    "\n",
    "# initialize keyphrase extraction model, here TopicRank\n",
    "extractor_topicrank = pke.unsupervised.TopicRank()\n",
    "\n",
    "# 2. load the content of the document.\n",
    "stoplist = list(string.punctuation)\n",
    "stoplist += pke.lang.stopwords.get('ru')\n",
    "\n",
    "# load the content of the document, here document is expected to be a simple\n",
    "# test string and preprocessing is carried out using spacy\n",
    "extractor_topicrank.load_document(input=text, language='ru', stoplist=stoplist)\n",
    "\n",
    "# keyphrase candidate selection, in the case of TopicRank: sequences of nouns\n",
    "# and adjectives (i.e. `(Noun|Adj)*`)\n",
    "pos = {'NOUN', 'PROPN'}\n",
    "extractor_topicrank.candidate_selection(pos=pos)\n",
    "\n",
    "# candidate weighting, in the case of TopicRank: using a random walk algorithm\n",
    "extractor_topicrank.candidate_weighting(threshold=0.74, method='average')\n"
   ]
  },
  {
   "cell_type": "code",
   "execution_count": null,
   "id": "5556b00f-8b61-4890-901d-2eecfb1ec2a1",
   "metadata": {
    "id": "5556b00f-8b61-4890-901d-2eecfb1ec2a1",
    "outputId": "5b49ed55-2e1a-4282-f9ef-fdce13e865c8"
   },
   "outputs": [
    {
     "data": {
      "text/plain": [
       "[('электив', 0.04374085853602636),\n",
       " ('парах', 0.02738448170817668),\n",
       " ('преподаватель', 0.0271791115190622),\n",
       " ('задания', 0.018739328662491613),\n",
       " ('лекции', 0.01577885389484904),\n",
       " ('теме', 0.013366875628217765),\n",
       " ('работа зала', 0.012636904871537695),\n",
       " ('практике', 0.01253481064271973),\n",
       " ('балла', 0.012109779742456576),\n",
       " ('занятиях', 0.01170286158376834),\n",
       " ('курс', 0.010894734639320822),\n",
       " ('материал', 0.010651983244162817),\n",
       " ('презентации', 0.009616472898400822),\n",
       " ('элективе', 0.008807505141742885),\n",
       " ('информации ноль', 0.008730331039044161),\n",
       " ('студент', 0.008426415740849727),\n",
       " ('знаниями', 0.007771797167432178),\n",
       " ('вопросы', 0.007593502197698881),\n",
       " ('зачёт', 0.006902731148059688),\n",
       " ('группе', 0.006488117779589755)]"
      ]
     },
     "execution_count": 57,
     "metadata": {},
     "output_type": "execute_result"
    }
   ],
   "source": [
    "# N-best selection, keyphrases contains the 10 highest scored candidates as\n",
    "# (keyphrase, score) tuples\n",
    "keyphrases_topicrank = extractor_topicrank.get_n_best(n=20)\n",
    "keyphrases_topicrank"
   ]
  },
  {
   "cell_type": "markdown",
   "id": "0874abce-a9fb-4bbe-ba33-739124d2ddc0",
   "metadata": {
    "id": "0874abce-a9fb-4bbe-ba33-739124d2ddc0"
   },
   "source": [
    "# SingleRank"
   ]
  },
  {
   "cell_type": "code",
   "execution_count": null,
   "id": "4ca405b0-64f6-42c2-bb9e-02910b7e7468",
   "metadata": {
    "id": "4ca405b0-64f6-42c2-bb9e-02910b7e7468",
    "outputId": "716bde00-e04b-48d8-cbe4-eeae5c924ec1"
   },
   "outputs": [
    {
     "name": "stdout",
     "output_type": "stream",
     "text": [
      "CPU times: user 5.34 s, sys: 55.9 ms, total: 5.4 s\n",
      "Wall time: 5.39 s\n"
     ]
    }
   ],
   "source": [
    "%%time\n",
    "\n",
    "# 1. create a SingleRank extractor.\n",
    "extractor_singlerank = pke.unsupervised.SingleRank()\n",
    "\n",
    "# 2. load the content of the document.\n",
    "extractor_singlerank.load_document(input=text,\n",
    "                        language='ru',\n",
    "                        normalization=None)\n",
    "\n",
    "# 3. select the longest sequences of nouns and adjectives as candidates.\n",
    "# define the set of valid Part-of-Speeches\n",
    "pos = {'NOUN', 'PROPN'}\n",
    "extractor_singlerank.candidate_selection(pos=pos)\n",
    "\n",
    "# 4. weight the candidates using the sum of their word's scores that are\n",
    "#    computed using random walk. In the graph, nodes are words of\n",
    "#    certain part-of-speech (nouns and adjectives) that are connected if\n",
    "#    they occur in a window of 10 words.\n",
    "extractor_singlerank.candidate_weighting(window=10,\n",
    "                                         pos=pos)\n"
   ]
  },
  {
   "cell_type": "code",
   "execution_count": null,
   "id": "37bf40b8-b042-40d9-aade-3395d8f8f66f",
   "metadata": {
    "id": "37bf40b8-b042-40d9-aade-3395d8f8f66f",
    "outputId": "83a7d98b-0d31-41c9-8ec4-9cf089e2e72c"
   },
   "outputs": [
    {
     "data": {
      "text/plain": [
       "[('теории - электив', 0.03974693264373249),\n",
       " ('электив -', 0.038359945245145514),\n",
       " ('целом электив', 0.03206445731005243),\n",
       " ('проект электив', 0.031316604092436445),\n",
       " ('студентов электив', 0.03126727287287185),\n",
       " ('электив людей', 0.030983823363713463),\n",
       " ('моок электив', 0.029684082022215064),\n",
       " ('электив год', 0.02957551658380631),\n",
       " ('сенцонуицнауа электив', 0.029508266432170645),\n",
       " ('сдачу электив', 0.029426588750769495),\n",
       " ('закрытии электив', 0.02942432670419585),\n",
       " ('подспорьем электив', 0.029354512263770668),\n",
       " ('электив', 0.029108646766357597),\n",
       " ('преподаватель - душка', 0.026389286182699676),\n",
       " ('преподаватель - психолог', 0.02627851495222831),\n",
       " ('- преподаватель', 0.026049244879996946),\n",
       " ('задания преподаватель', 0.025176469271029477),\n",
       " ('начале курса преподаватель', 0.023311636800214357),\n",
       " ('преподаватель идея электива', 0.021544146211280944),\n",
       " ('половине семестра преподаватель', 0.020483028546499922)]"
      ]
     },
     "execution_count": 59,
     "metadata": {},
     "output_type": "execute_result"
    }
   ],
   "source": [
    "# 5. get the 10-highest scored candidates as keyphrases\n",
    "keyphrases_singlerank = extractor_singlerank.get_n_best(n=20)\n",
    "keyphrases_singlerank"
   ]
  },
  {
   "cell_type": "markdown",
   "id": "a0efe7e0-438a-4d1f-bdfc-c9eadbfff29b",
   "metadata": {
    "id": "a0efe7e0-438a-4d1f-bdfc-c9eadbfff29b"
   },
   "source": [
    "# PositionRank"
   ]
  },
  {
   "cell_type": "code",
   "execution_count": null,
   "id": "8de14382-1fce-4b7d-8002-d61508db5c0b",
   "metadata": {
    "id": "8de14382-1fce-4b7d-8002-d61508db5c0b",
    "outputId": "c58b59f1-4c32-419d-c62f-b07861dc7bf5"
   },
   "outputs": [
    {
     "name": "stdout",
     "output_type": "stream",
     "text": [
      "CPU times: user 5.72 s, sys: 172 ms, total: 5.89 s\n",
      "Wall time: 5.89 s\n"
     ]
    }
   ],
   "source": [
    "%%time\n",
    "\n",
    "# define the valid Part-of-Speeches to occur in the graph\n",
    "pos = {'NOUN', 'PROPN'}\n",
    "\n",
    "# define the grammar for selecting the keyphrase candidates\n",
    "grammar = \"NP: {<ADJ>*<NOUN|PROPN>+}\"\n",
    "# grammar = \"NP: {<NOUN|PROPN>+}\"\n",
    "\n",
    "# 1. create a PositionRank extractor.\n",
    "extractor_positionrank = pke.unsupervised.PositionRank()\n",
    "\n",
    "# 2. load the content of the document.\n",
    "extractor_positionrank.load_document(input=text,\n",
    "                                     language='ru',\n",
    "                                     normalization=None)\n",
    "\n",
    "# 3. select the noun phrases up to 3 words as keyphrase candidates.\n",
    "extractor_positionrank.candidate_selection(grammar=grammar,\n",
    "                                           maximum_word_number=3)\n",
    "\n",
    "# 4. weight the candidates using the sum of their word's scores that are\n",
    "#    computed using random walk biaised with the position of the words\n",
    "#    in the document. In the graph, nodes are words (nouns and\n",
    "#    adjectives only) that are connected if they occur in a window of\n",
    "#    10 words.\n",
    "extractor_positionrank.candidate_weighting(window=10,\n",
    "                                           pos=pos)\n"
   ]
  },
  {
   "cell_type": "code",
   "execution_count": null,
   "id": "f2965ada-e54f-4d7e-8358-8dbd7f99bc34",
   "metadata": {
    "id": "f2965ada-e54f-4d7e-8358-8dbd7f99bc34",
    "outputId": "dcbdd6ba-ec60-4173-8404-2903bd8f6a82"
   },
   "outputs": [
    {
     "data": {
      "text/plain": [
       "[('милое местечко', 0.03426966960482957),\n",
       " ('атмосферное местечко', 0.03426966960482957),\n",
       " ('самое вкусное местечко', 0.03426966960482957),\n",
       " ('данное местечко', 0.03426966960482957),\n",
       " ('интересно местечко', 0.03426966960482957),\n",
       " ('убогое местечко', 0.03426966960482957),\n",
       " ('уютное местечко', 0.03426966960482957),\n",
       " ('местечко', 0.03426966960482957),\n",
       " ('сыров -', 0.03407217417400235),\n",
       " ('- меню', 0.032872340615539855),\n",
       " ('пиво - класс', 0.03127058172060554),\n",
       " ('- пиво', 0.030817591889289106),\n",
       " ('- вкусное пиво', 0.030817591889289106),\n",
       " ('атмосфера - кайф', 0.030586651514968793),\n",
       " ('раз -', 0.028809622305363047),\n",
       " ('- официант ярослав', 0.027532756575211478),\n",
       " ('официанты - лапочки', 0.027306570625952015),\n",
       " ('- лучший бар', 0.02682962766585958),\n",
       " ('- подвальный бар', 0.02682962766585958),\n",
       " ('основных блюд -', 0.026178607679303034)]"
      ]
     },
     "execution_count": 80,
     "metadata": {},
     "output_type": "execute_result"
    }
   ],
   "source": [
    "# 5. get the 10-highest scored candidates as keyphrases\n",
    "keyphrases_positionrank = extractor_positionrank.get_n_best(n=20)\n",
    "keyphrases_positionrank"
   ]
  },
  {
   "cell_type": "markdown",
   "id": "c77082eb-d572-417f-8e09-523ecafe3511",
   "metadata": {
    "id": "c77082eb-d572-417f-8e09-523ecafe3511"
   },
   "source": [
    "# MultipartiteRank"
   ]
  },
  {
   "cell_type": "code",
   "execution_count": null,
   "id": "61278956-7d13-4df5-aa30-87e3e71650c3",
   "metadata": {
    "id": "61278956-7d13-4df5-aa30-87e3e71650c3",
    "outputId": "983b00d9-8638-4f67-9147-1dba0ce52e86"
   },
   "outputs": [
    {
     "name": "stdout",
     "output_type": "stream",
     "text": [
      "CPU times: user 21.9 s, sys: 400 ms, total: 22.3 s\n",
      "Wall time: 22.3 s\n"
     ]
    }
   ],
   "source": [
    "%%time\n",
    "\n",
    "# 1. create a MultipartiteRank extractor.\n",
    "extractor_multipartiterank = pke.unsupervised.MultipartiteRank()\n",
    "\n",
    "stoplist = list(string.punctuation)\n",
    "stoplist += pke.lang.stopwords.get('ru')\n",
    "\n",
    "# 2. load the content of the document.\n",
    "extractor_multipartiterank.load_document(input=text,\n",
    "                                         language=\"ru\",\n",
    "                                         stoplist=stoplist)\n",
    "\n",
    "# 3. select the longest sequences of nouns and adjectives, that do\n",
    "#    not contain punctuation marks or stopwords as candidates.\n",
    "pos = {'NOUN', 'PROPN'}\n",
    "extractor_multipartiterank.candidate_selection(pos=pos)\n",
    "\n",
    "# 4. build the Multipartite graph and rank candidates using random\n",
    "#    walk, alpha controls the weight adjustment mechanism, see\n",
    "#    TopicRank for threshold/method parameters.\n",
    "extractor_multipartiterank.candidate_weighting(alpha=1.5,\n",
    "                                               threshold=0.25,\n",
    "                                               method='average')\n"
   ]
  },
  {
   "cell_type": "code",
   "execution_count": null,
   "id": "497f7ea2-5211-4d15-8e17-9e38589850a1",
   "metadata": {
    "id": "497f7ea2-5211-4d15-8e17-9e38589850a1",
    "outputId": "67adaed3-2b21-42b5-ef61-9d73af2d7c9b"
   },
   "outputs": [
    {
     "data": {
      "text/plain": [
       "[('место', 0.02895057012781344),\n",
       " ('персонал', 0.01641370245076043),\n",
       " ('заведение', 0.01541817042853683),\n",
       " ('пива', 0.014374028398306085),\n",
       " ('кухню', 0.014062170684994992),\n",
       " ('еде', 0.013398316598900896),\n",
       " ('атмосфера', 0.01152498747316213),\n",
       " ('обслуживание', 0.011246302932412116),\n",
       " ('цены', 0.010620380838374473),\n",
       " ('официанты', 0.010556204678451612),\n",
       " ('меню', 0.009782930862203755),\n",
       " ('музыка', 0.007933471650336496),\n",
       " ('блюда', 0.0077810815273155745),\n",
       " ('стол', 0.007499518506603814),\n",
       " ('раз', 0.007211008567100512),\n",
       " ('бар', 0.007210308239260101),\n",
       " ('интерьер', 0.0071106000636529335),\n",
       " ('спасибо', 0.006996946852392568),\n",
       " ('коктейли', 0.006380744174745164),\n",
       " ('заказе', 0.005141419376638484)]"
      ]
     },
     "execution_count": 78,
     "metadata": {},
     "output_type": "execute_result"
    }
   ],
   "source": [
    "# 5. get the 10-highest scored candidates as keyphrases\n",
    "keyphrases_multipartiterank = extractor_multipartiterank.get_n_best(n=20)\n",
    "keyphrases_multipartiterank"
   ]
  },
  {
   "cell_type": "code",
   "execution_count": null,
   "id": "91316995-d219-4456-b553-787f2d2f3bb6",
   "metadata": {
    "id": "91316995-d219-4456-b553-787f2d2f3bb6"
   },
   "outputs": [],
   "source": []
  },
  {
   "cell_type": "code",
   "execution_count": null,
   "id": "d06a6968-b06a-41c7-85cc-0c1bc25f7d33",
   "metadata": {
    "id": "d06a6968-b06a-41c7-85cc-0c1bc25f7d33"
   },
   "outputs": [],
   "source": []
  }
 ],
 "metadata": {
  "colab": {
   "provenance": []
  },
  "kernelspec": {
   "display_name": "Python 3 (ipykernel)",
   "language": "python",
   "name": "python3"
  },
  "language_info": {
   "codemirror_mode": {
    "name": "ipython",
    "version": 3
   },
   "file_extension": ".py",
   "mimetype": "text/x-python",
   "name": "python",
   "nbconvert_exporter": "python",
   "pygments_lexer": "ipython3",
   "version": "3.11.6"
  }
 },
 "nbformat": 4,
 "nbformat_minor": 5
}
