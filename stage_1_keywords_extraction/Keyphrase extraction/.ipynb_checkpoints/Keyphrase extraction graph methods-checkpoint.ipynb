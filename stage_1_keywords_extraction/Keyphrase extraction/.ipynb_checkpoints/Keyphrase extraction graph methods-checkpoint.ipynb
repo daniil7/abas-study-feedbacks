{
 "cells": [
  {
   "cell_type": "code",
   "execution_count": 1,
   "id": "3d374855-070e-4185-91b8-1d566495a098",
   "metadata": {
    "id": "3d374855-070e-4185-91b8-1d566495a098"
   },
   "outputs": [],
   "source": [
    "from pathlib import Path\n",
    "import pandas as pd\n",
    "\n",
    "# pip install git+https://github.com/boudinfl/pke.git\n",
    "# pke relies on spacy (>= 3.2.3) for text processing and requires models to be installed:\n",
    "# # download the russian model\n",
    "# python -m spacy download ru_core_news_lg\n",
    "import pke\n",
    "import string\n",
    "import ru_core_news_lg\n",
    "import spacy"
   ]
  },
  {
   "cell_type": "code",
   "execution_count": null,
   "id": "8e0d81cf-c9b3-4798-a679-14eb86af72a5",
   "metadata": {},
   "outputs": [],
   "source": [
    "!python -m spacy download ru_core_news_lg"
   ]
  },
  {
   "cell_type": "code",
   "execution_count": 2,
   "id": "c89dccc8-1791-45b4-a008-315d4d08bed1",
   "metadata": {},
   "outputs": [],
   "source": [
    "spacy_model = spacy.load(\"ru_core_news_lg\")"
   ]
  },
  {
   "cell_type": "code",
   "execution_count": 3,
   "id": "3ef7189b-cc01-417c-96f7-d9d6eadbd026",
   "metadata": {
    "id": "af95ca81-b8b0-4f48-a162-9d69d4bf006c"
   },
   "outputs": [],
   "source": [
    "all_df = pd.read_csv(\"data/all_dataset.csv\", sep=\"\\t\", encoding=\"utf-8\")"
   ]
  },
  {
   "cell_type": "code",
   "execution_count": 4,
   "id": "81e48538-6bbe-472f-86c4-5008b6c40c76",
   "metadata": {
    "id": "81e48538-6bbe-472f-86c4-5008b6c40c76"
   },
   "outputs": [],
   "source": [
    "all_df = all_df[all_df[\"rubrics\"].str.contains('образование_отзывус')].dropna().astype(\"str\").reset_index()"
   ]
  },
  {
   "cell_type": "code",
   "execution_count": 37,
   "id": "7905a3f0-4b89-4fd6-8fe7-1f84d357dd64",
   "metadata": {
    "id": "7905a3f0-4b89-4fd6-8fe7-1f84d357dd64"
   },
   "outputs": [],
   "source": [
    "text = []\n",
    "for i in range(len(all_df)):\n",
    "    text.append([\n",
    "        (w.text, w.pos_)\n",
    "        for w in spacy_model(all_df['text'][i])\n",
    "    ])\n",
    "\n",
    "text_normalized = []\n",
    "for i in range(len(all_df)):\n",
    "    text_normalized.append([\n",
    "        (w.lemma_, w.pos_)\n",
    "        for w in spacy_model(all_df['text'][i])\n",
    "        if w.pos_ != \"PUNCT\"\n",
    "    ])"
   ]
  },
  {
   "cell_type": "code",
   "execution_count": 41,
   "id": "a944cca2-f26d-40d0-b2ed-b4a636b0fafd",
   "metadata": {},
   "outputs": [
    {
     "name": "stdout",
     "output_type": "stream",
     "text": [
      "[('Был', 'AUX'), ('скучноват', 'ADJ'), ('.', 'PUNCT'), ('Много', 'ADV'), ('практики', 'NOUN'), (',', 'PUNCT'), ('решение', 'NOUN'), ('задач', 'NOUN'), ('про', 'ADP'), ('заработную', 'ADJ'), ('плату', 'NOUN'), ('.', 'PUNCT'), ('Довольно', 'ADV'), ('сложно', 'ADJ'), ('зарабатывать', 'VERB'), ('баллы', 'NOUN'), (',', 'PUNCT'), ('нужно', 'ADJ'), ('теорию', 'NOUN'), ('учить', 'VERB'), ('и', 'CCONJ'), ('местами', 'NOUN'), ('её', 'PRON'), ('рассказывать', 'VERB'), (',', 'PUNCT'), ('решать', 'VERB'), ('постоянно', 'ADV'), ('задачи', 'NOUN'), (',', 'PUNCT'), ('выходить', 'VERB'), ('к', 'ADP'), ('доске', 'NOUN'), ('.', 'PUNCT'), ('Когда', 'SCONJ'), ('баллы', 'NOUN'), ('набраны', 'VERB'), ('на', 'ADP'), ('зачёт', 'NOUN'), (',', 'PUNCT'), ('все', 'ADV'), ('равно', 'ADJ'), ('нужно', 'ADJ'), ('ходить', 'VERB'), (',', 'PUNCT'), ('иначе', 'CCONJ'), ('она', 'PRON'), ('их', 'PRON'), ('уберёт', 'VERB'), ('(', 'PUNCT'), ('хотя', 'SCONJ'), (',', 'PUNCT'), ('она', 'PRON'), ('просто', 'PART'), ('так', 'ADV'), (',', 'PUNCT'), ('наверное', 'ADV'), (',', 'PUNCT'), ('грозила', 'VERB'), ('.', 'PUNCT'), ('В', 'ADP'), ('конце', 'NOUN'), ('сама', 'ADJ'), ('доставляла', 'VERB'), ('и', 'CCONJ'), ('добирала', 'VERB'), ('баллы', 'NOUN'), ('аж', 'PART'), ('до', 'ADP'), ('+10', 'NUM'), ('халявных', 'ADJ'), (')', 'PUNCT')] \n",
      "\n",
      "[('быть', 'AUX'), ('скучноватый', 'ADJ'), ('много', 'ADV'), ('практика', 'NOUN'), ('решение', 'NOUN'), ('задача', 'NOUN'), ('про', 'ADP'), ('заработный', 'ADJ'), ('плата', 'NOUN'), ('Довольно', 'ADV'), ('сложный', 'ADJ'), ('зарабатывать', 'VERB'), ('балл', 'NOUN'), ('нужный', 'ADJ'), ('теория', 'NOUN'), ('учить', 'VERB'), ('и', 'CCONJ'), ('место', 'NOUN'), ('её', 'PRON'), ('рассказывать', 'VERB'), ('решать', 'VERB'), ('постоянно', 'ADV'), ('задача', 'NOUN'), ('выходить', 'VERB'), ('к', 'ADP'), ('доска', 'NOUN'), ('когда', 'SCONJ'), ('балл', 'NOUN'), ('набрать', 'VERB'), ('на', 'ADP'), ('зачёт', 'NOUN'), ('все', 'ADV'), ('равный', 'ADJ'), ('нужный', 'ADJ'), ('ходить', 'VERB'), ('иначе', 'CCONJ'), ('она', 'PRON'), ('их', 'PRON'), ('убрать', 'VERB'), ('хотя', 'SCONJ'), ('она', 'PRON'), ('просто', 'PART'), ('так', 'ADV'), ('наверное', 'ADV'), ('грозить', 'VERB'), ('в', 'ADP'), ('конец', 'NOUN'), ('сама', 'ADJ'), ('доставлять', 'VERB'), ('и', 'CCONJ'), ('добирать', 'VERB'), ('балл', 'NOUN'), ('аж', 'PART'), ('до', 'ADP'), ('+10', 'NUM'), ('халявный', 'ADJ')]\n"
     ]
    }
   ],
   "source": [
    "print(text[0], '\\n')\n",
    "print(text_normalized[0])"
   ]
  },
  {
   "cell_type": "markdown",
   "id": "ca5497f1-4a22-43fc-b730-7942c962dc58",
   "metadata": {
    "id": "ca5497f1-4a22-43fc-b730-7942c962dc58"
   },
   "source": [
    "# TextRank"
   ]
  },
  {
   "cell_type": "code",
   "execution_count": 44,
   "id": "e229ab51-d3c3-49c9-a073-68a6660d1875",
   "metadata": {
    "id": "e229ab51-d3c3-49c9-a073-68a6660d1875",
    "outputId": "dbe8a745-79da-4087-ad67-cefa2a8f62e9"
   },
   "outputs": [
    {
     "name": "stderr",
     "output_type": "stream",
     "text": [
      "WARNING:root:Candidates are generated using 0.33-top\n"
     ]
    },
    {
     "name": "stdout",
     "output_type": "stream",
     "text": [
      "CPU times: user 1.74 s, sys: 8.01 ms, total: 1.74 s\n",
      "Wall time: 1.74 s\n"
     ]
    }
   ],
   "source": [
    "%%time\n",
    "\n",
    "# define the set of valid Part-of-Speeches\n",
    "# pos = {'NOUN', 'PROPN', 'ADJ'}\n",
    "pos = {'NOUN', 'PROPN'}\n",
    "\n",
    "# 1. create a TextRank extractor.\n",
    "extractor_textrank = pke.unsupervised.TextRank()\n",
    "\n",
    "# 2. load the content of the document.\n",
    "extractor_textrank.load_document(input=text,\n",
    "                        language='ru',\n",
    "                        #spacy_model=spacy_model,\n",
    "                        normalization=None)\n",
    "\n",
    "extractor_textrank.ngram_selection(n=1)\n",
    "\n",
    "# 3. build the graph representation of the document and rank the words.\n",
    "#    Keyphrase candidates are composed from the 33-percent\n",
    "#    highest-ranked words.\n",
    "extractor_textrank.candidate_weighting(window=3,\n",
    "                              pos=pos,\n",
    "                              top_percent=0.33)\n"
   ]
  },
  {
   "cell_type": "code",
   "execution_count": 45,
   "id": "b2289566-af9b-464b-8a21-e303605a0152",
   "metadata": {
    "id": "b2289566-af9b-464b-8a21-e303605a0152",
    "outputId": "acdf3abc-3fbd-4400-973b-91006894984d"
   },
   "outputs": [
    {
     "data": {
      "text/plain": [
       "[('электив преподаватель -', 0.04649929603272352),\n",
       " ('составление интеллект - карта подготовка презентация написание эссе электив',\n",
       "  0.040957931602645714),\n",
       " ('преподавательница - елена эрикович -', 0.040466090832117455),\n",
       " ('онлайн - прокторинг - сдача экзамен', 0.03756406636137394),\n",
       " ('- студент электив', 0.03709786719555557),\n",
       " ('навык администрирование сеть преподаватель -', 0.03581824213985302),\n",
       " ('преподаватель елена александрович -', 0.03503414938095692),\n",
       " ('преподаватель светлана геннадиевич - очень', 0.034388556767959814),\n",
       " ('электив - это дело предпочтение', 0.03427154243486049),\n",
       " ('электив подача преподаватель полезность материал', 0.03394326990089521),\n",
       " ('преподаватель - петров владимир владимирович', 0.03393038507751399),\n",
       " ('по преподаватель ирина иванович -', 0.03391581185378042),\n",
       " ('проблема преподаватель - очень', 0.033774902605974856),\n",
       " ('преподаватель - ирина иванович', 0.033582546973448237),\n",
       " ('преподаватель - оксана александрович', 0.03339168531362244),\n",
       " ('преподаватель - практик она', 0.03320123729330292),\n",
       " ('онлайн - электив', 0.03319357248639862),\n",
       " ('проблема - преподаватель', 0.03305423910154971),\n",
       " ('электив - просто чудо', 0.033021804089218725),\n",
       " ('работа по итог курс - программа', 0.03300768691927924),\n",
       " ('электив - чудо', 0.032819914366514984),\n",
       " ('преподаватель петров в.в. -', 0.03267421809512182),\n",
       " ('- преподаватель', 0.032467243133417104),\n",
       " ('специальность преподаватель -', 0.03242350368413655),\n",
       " ('- электив', 0.0321216773581437),\n",
       " ('электив -', 0.031984887358143706),\n",
       " ('преподаватель -', 0.031840273133417106),\n",
       " ('задание - проект по создание видео', 0.03058352857273899),\n",
       " ('помощь преподаватель преподаватель очень', 0.030286864105922046),\n",
       " ('мини - доклад презентация по тема', 0.030182462264321037),\n",
       " ('конец курс тест - прокторинг', 0.02991448885412904),\n",
       " ('электив преподаватель супер', 0.02979241007580925),\n",
       " ('сайт преподаватель преподаватель', 0.029559258390973633),\n",
       " ('электив преподаватель очень', 0.02943127507831138),\n",
       " ('- проект тема проект', 0.029408104820377163),\n",
       " ('электив преподаватель просто', 0.02904864129658998),\n",
       " ('преподаватель электив', 0.028600491573886243),\n",
       " ('электив преподаватель', 0.028419511573886242),\n",
       " ('задание читать текст -', 0.026944374004552595),\n",
       " ('вопрос - доп балл', 0.026764214166331027),\n",
       " ('задание по тема преподаватель топ', 0.026672876422560717),\n",
       " ('работа - выступление', 0.026304219242782013),\n",
       " ('видео - лекция конспект', 0.026297851019229313),\n",
       " ('тема срок выполнение - неделя', 0.026034671972008993),\n",
       " ('лекция по моделирование бизнес -', 0.0258067675536611),\n",
       " ('работа мини -', 0.025733300300917156),\n",
       " ('лекция мультик видео - урок', 0.02567585805954299),\n",
       " ('сложность - получение балл', 0.025506640083364875),\n",
       " ('выполнение презентация - доклад', 0.025484719589024596),\n",
       " ('знание - понимание процесс образование', 0.025475557931891407),\n",
       " ('работа а -', 0.02534356796610242),\n",
       " ('практика елена эрикович -', 0.025176764953015747),\n",
       " ('лекция - ответ', 0.024958449809209998),\n",
       " ('работа -', 0.024786564483097594),\n",
       " ('доклад читать - презентация по', 0.02475293077336549),\n",
       " ('конец пара преподаватель', 0.024692852506143104),\n",
       " ('теория - практика', 0.0246187699779911),\n",
       " ('- задание', 0.02458543527498459),\n",
       " ('пара -', 0.024584827878743637),\n",
       " ('- пара', 0.02454942787874364),\n",
       " ('балл просто беда -', 0.02444789731849218),\n",
       " ('онлайн - курс по дизайн', 0.024333288738537087),\n",
       " ('форма контроль - прохождение тест', 0.024229167731908367),\n",
       " ('задание -', 0.02421319527498459),\n",
       " ('кредит тема -', 0.024026072076510984),\n",
       " ('практика - обсуждение', 0.023936348782160694),\n",
       " ('- лекция', 0.0238562302613118),\n",
       " ('проект преподавательница - золото', 0.02384878292249495),\n",
       " ('студент по сложность -', 0.02379890354464449),\n",
       " ('балл -', 0.02368236935021056),\n",
       " ('форма контроль - тест', 0.02360433957287131),\n",
       " ('мини - курс', 0.023454356092948058),\n",
       " ('лекция -', 0.0234365502613118),\n",
       " ('знание astra - linux', 0.02340511995177413),\n",
       " ('курс - объём', 0.023350136047760043),\n",
       " ('тест моок - дисциплина', 0.0232893587911766),\n",
       " ('студент - химик', 0.02313941504539594),\n",
       " ('просто лекция теория преподаватель', 0.023123756404652283),\n",
       " ('тема -', 0.02301843432376517),\n",
       " ('- студент', 0.02301127429624915),\n",
       " ('выполнение работа электив', 0.022954050811349918),\n",
       " ('мини - зачёт по блок', 0.02292836630482897),\n",
       " ('курс -', 0.022912330275128494),\n",
       " ('практика - мини', 0.02279777359091645),\n",
       " ('практика мини -', 0.02276196359091645),\n",
       " ('дз - просмотр фильм', 0.02272969673325538),\n",
       " ('правило - презентация', 0.022704380725088565),\n",
       " ('студент -', 0.02262445429624915),\n",
       " ('- полезность знание', 0.022592768984121058),\n",
       " ('занятие -', 0.02255419417097526),\n",
       " ('бизнес - проект', 0.02251032191367348),\n",
       " ('- зачёт автомат', 0.02240038052500332),\n",
       " ('точка зрение gamedev - разработчик сценарист дизайнер',\n",
       "  0.022387576270494487),\n",
       " ('тк решение задание преподаватель', 0.022323725055641883),\n",
       " ('материал по - максимум', 0.02229447378974761),\n",
       " ('модуль - тест', 0.02223611773315715),\n",
       " ('тест - экзамен', 0.022215680420792076),\n",
       " ('практика -', 0.02215306777309689),\n",
       " ('- рок группа', 0.022107192272361725),\n",
       " ('- презентация', 0.022027197829052467)]"
      ]
     },
     "execution_count": 45,
     "metadata": {},
     "output_type": "execute_result"
    }
   ],
   "source": [
    "# 4. get the 10-highest scored candidates as keyphrases\n",
    "keyphrases_textrank = extractor_textrank.get_n_best(n=100)\n",
    "keyphrases_textrank"
   ]
  },
  {
   "cell_type": "markdown",
   "id": "7bda01f1-328a-41cd-92b9-d75ca3664d06",
   "metadata": {
    "id": "7bda01f1-328a-41cd-92b9-d75ca3664d06"
   },
   "source": [
    "# TopicRank"
   ]
  },
  {
   "cell_type": "code",
   "execution_count": null,
   "id": "6482a841-d815-4880-90d9-0f9a53d4b5bd",
   "metadata": {
    "id": "6482a841-d815-4880-90d9-0f9a53d4b5bd",
    "outputId": "2611391a-484e-4316-a615-173367948213"
   },
   "outputs": [],
   "source": [
    "%%time\n",
    "\n",
    "# initialize keyphrase extraction model, here TopicRank\n",
    "extractor_topicrank = pke.unsupervised.TopicRank()\n",
    "\n",
    "# 2. load the content of the document.\n",
    "stoplist = list(string.punctuation)\n",
    "stoplist += pke.lang.stopwords.get('ru')\n",
    "\n",
    "# load the content of the document, here document is expected to be a simple\n",
    "# test string and preprocessing is carried out using spacy\n",
    "extractor_topicrank.load_document(input=text, language='ru', stoplist=stoplist)\n",
    "\n",
    "# keyphrase candidate selection, in the case of TopicRank: sequences of nouns\n",
    "# and adjectives (i.e. `(Noun|Adj)*`)\n",
    "pos = {'NOUN', 'PROPN'}\n",
    "extractor_topicrank.candidate_selection(pos=pos)\n",
    "\n",
    "# candidate weighting, in the case of TopicRank: using a random walk algorithm\n",
    "extractor_topicrank.candidate_weighting(threshold=0.74, method='average')\n"
   ]
  },
  {
   "cell_type": "code",
   "execution_count": null,
   "id": "5556b00f-8b61-4890-901d-2eecfb1ec2a1",
   "metadata": {
    "id": "5556b00f-8b61-4890-901d-2eecfb1ec2a1",
    "outputId": "5b49ed55-2e1a-4282-f9ef-fdce13e865c8"
   },
   "outputs": [],
   "source": [
    "# N-best selection, keyphrases contains the 10 highest scored candidates as\n",
    "# (keyphrase, score) tuples\n",
    "keyphrases_topicrank = extractor_topicrank.get_n_best(n=100)\n",
    "keyphrases_topicrank"
   ]
  },
  {
   "cell_type": "markdown",
   "id": "0874abce-a9fb-4bbe-ba33-739124d2ddc0",
   "metadata": {
    "id": "0874abce-a9fb-4bbe-ba33-739124d2ddc0"
   },
   "source": [
    "# SingleRank"
   ]
  },
  {
   "cell_type": "code",
   "execution_count": null,
   "id": "4ca405b0-64f6-42c2-bb9e-02910b7e7468",
   "metadata": {
    "id": "4ca405b0-64f6-42c2-bb9e-02910b7e7468",
    "outputId": "716bde00-e04b-48d8-cbe4-eeae5c924ec1"
   },
   "outputs": [
    {
     "name": "stdout",
     "output_type": "stream",
     "text": [
      "CPU times: user 5.34 s, sys: 55.9 ms, total: 5.4 s\n",
      "Wall time: 5.39 s\n"
     ]
    }
   ],
   "source": [
    "%%time\n",
    "\n",
    "# 1. create a SingleRank extractor.\n",
    "extractor_singlerank = pke.unsupervised.SingleRank()\n",
    "\n",
    "# 2. load the content of the document.\n",
    "extractor_singlerank.load_document(input=text,\n",
    "                        language='ru',\n",
    "                        normalization=None)\n",
    "\n",
    "# 3. select the longest sequences of nouns and adjectives as candidates.\n",
    "# define the set of valid Part-of-Speeches\n",
    "pos = {'NOUN', 'PROPN'}\n",
    "extractor_singlerank.candidate_selection(pos=pos)\n",
    "\n",
    "# 4. weight the candidates using the sum of their word's scores that are\n",
    "#    computed using random walk. In the graph, nodes are words of\n",
    "#    certain part-of-speech (nouns and adjectives) that are connected if\n",
    "#    they occur in a window of 10 words.\n",
    "extractor_singlerank.candidate_weighting(window=10,\n",
    "                                         pos=pos)\n"
   ]
  },
  {
   "cell_type": "code",
   "execution_count": null,
   "id": "37bf40b8-b042-40d9-aade-3395d8f8f66f",
   "metadata": {
    "id": "37bf40b8-b042-40d9-aade-3395d8f8f66f",
    "outputId": "83a7d98b-0d31-41c9-8ec4-9cf089e2e72c"
   },
   "outputs": [
    {
     "data": {
      "text/plain": [
       "[('теории - электив', 0.03974693264373249),\n",
       " ('электив -', 0.038359945245145514),\n",
       " ('целом электив', 0.03206445731005243),\n",
       " ('проект электив', 0.031316604092436445),\n",
       " ('студентов электив', 0.03126727287287185),\n",
       " ('электив людей', 0.030983823363713463),\n",
       " ('моок электив', 0.029684082022215064),\n",
       " ('электив год', 0.02957551658380631),\n",
       " ('сенцонуицнауа электив', 0.029508266432170645),\n",
       " ('сдачу электив', 0.029426588750769495),\n",
       " ('закрытии электив', 0.02942432670419585),\n",
       " ('подспорьем электив', 0.029354512263770668),\n",
       " ('электив', 0.029108646766357597),\n",
       " ('преподаватель - душка', 0.026389286182699676),\n",
       " ('преподаватель - психолог', 0.02627851495222831),\n",
       " ('- преподаватель', 0.026049244879996946),\n",
       " ('задания преподаватель', 0.025176469271029477),\n",
       " ('начале курса преподаватель', 0.023311636800214357),\n",
       " ('преподаватель идея электива', 0.021544146211280944),\n",
       " ('половине семестра преподаватель', 0.020483028546499922)]"
      ]
     },
     "execution_count": 59,
     "metadata": {},
     "output_type": "execute_result"
    }
   ],
   "source": [
    "# 5. get the 10-highest scored candidates as keyphrases\n",
    "keyphrases_singlerank = extractor_singlerank.get_n_best(n=20)\n",
    "keyphrases_singlerank"
   ]
  },
  {
   "cell_type": "markdown",
   "id": "a0efe7e0-438a-4d1f-bdfc-c9eadbfff29b",
   "metadata": {
    "id": "a0efe7e0-438a-4d1f-bdfc-c9eadbfff29b"
   },
   "source": [
    "# PositionRank"
   ]
  },
  {
   "cell_type": "code",
   "execution_count": null,
   "id": "8de14382-1fce-4b7d-8002-d61508db5c0b",
   "metadata": {
    "id": "8de14382-1fce-4b7d-8002-d61508db5c0b",
    "outputId": "c58b59f1-4c32-419d-c62f-b07861dc7bf5"
   },
   "outputs": [
    {
     "name": "stdout",
     "output_type": "stream",
     "text": [
      "CPU times: user 5.72 s, sys: 172 ms, total: 5.89 s\n",
      "Wall time: 5.89 s\n"
     ]
    }
   ],
   "source": [
    "%%time\n",
    "\n",
    "# define the valid Part-of-Speeches to occur in the graph\n",
    "pos = {'NOUN', 'PROPN'}\n",
    "\n",
    "# define the grammar for selecting the keyphrase candidates\n",
    "grammar = \"NP: {<ADJ>*<NOUN|PROPN>+}\"\n",
    "# grammar = \"NP: {<NOUN|PROPN>+}\"\n",
    "\n",
    "# 1. create a PositionRank extractor.\n",
    "extractor_positionrank = pke.unsupervised.PositionRank()\n",
    "\n",
    "# 2. load the content of the document.\n",
    "extractor_positionrank.load_document(input=text,\n",
    "                                     language='ru',\n",
    "                                     normalization=None)\n",
    "\n",
    "# 3. select the noun phrases up to 3 words as keyphrase candidates.\n",
    "extractor_positionrank.candidate_selection(grammar=grammar,\n",
    "                                           maximum_word_number=3)\n",
    "\n",
    "# 4. weight the candidates using the sum of their word's scores that are\n",
    "#    computed using random walk biaised with the position of the words\n",
    "#    in the document. In the graph, nodes are words (nouns and\n",
    "#    adjectives only) that are connected if they occur in a window of\n",
    "#    10 words.\n",
    "extractor_positionrank.candidate_weighting(window=10,\n",
    "                                           pos=pos)\n"
   ]
  },
  {
   "cell_type": "code",
   "execution_count": null,
   "id": "f2965ada-e54f-4d7e-8358-8dbd7f99bc34",
   "metadata": {
    "id": "f2965ada-e54f-4d7e-8358-8dbd7f99bc34",
    "outputId": "dcbdd6ba-ec60-4173-8404-2903bd8f6a82"
   },
   "outputs": [
    {
     "data": {
      "text/plain": [
       "[('милое местечко', 0.03426966960482957),\n",
       " ('атмосферное местечко', 0.03426966960482957),\n",
       " ('самое вкусное местечко', 0.03426966960482957),\n",
       " ('данное местечко', 0.03426966960482957),\n",
       " ('интересно местечко', 0.03426966960482957),\n",
       " ('убогое местечко', 0.03426966960482957),\n",
       " ('уютное местечко', 0.03426966960482957),\n",
       " ('местечко', 0.03426966960482957),\n",
       " ('сыров -', 0.03407217417400235),\n",
       " ('- меню', 0.032872340615539855),\n",
       " ('пиво - класс', 0.03127058172060554),\n",
       " ('- пиво', 0.030817591889289106),\n",
       " ('- вкусное пиво', 0.030817591889289106),\n",
       " ('атмосфера - кайф', 0.030586651514968793),\n",
       " ('раз -', 0.028809622305363047),\n",
       " ('- официант ярослав', 0.027532756575211478),\n",
       " ('официанты - лапочки', 0.027306570625952015),\n",
       " ('- лучший бар', 0.02682962766585958),\n",
       " ('- подвальный бар', 0.02682962766585958),\n",
       " ('основных блюд -', 0.026178607679303034)]"
      ]
     },
     "execution_count": 80,
     "metadata": {},
     "output_type": "execute_result"
    }
   ],
   "source": [
    "# 5. get the 10-highest scored candidates as keyphrases\n",
    "keyphrases_positionrank = extractor_positionrank.get_n_best(n=20)\n",
    "keyphrases_positionrank"
   ]
  },
  {
   "cell_type": "markdown",
   "id": "c77082eb-d572-417f-8e09-523ecafe3511",
   "metadata": {
    "id": "c77082eb-d572-417f-8e09-523ecafe3511"
   },
   "source": [
    "# MultipartiteRank"
   ]
  },
  {
   "cell_type": "code",
   "execution_count": 10,
   "id": "61278956-7d13-4df5-aa30-87e3e71650c3",
   "metadata": {
    "id": "61278956-7d13-4df5-aa30-87e3e71650c3",
    "outputId": "983b00d9-8638-4f67-9147-1dba0ce52e86"
   },
   "outputs": [
    {
     "name": "stdout",
     "output_type": "stream",
     "text": [
      "CPU times: user 3min 3s, sys: 2.8 s, total: 3min 6s\n",
      "Wall time: 3min 6s\n"
     ]
    }
   ],
   "source": [
    "%%time\n",
    "\n",
    "# 1. create a MultipartiteRank extractor.\n",
    "extractor_multipartiterank = pke.unsupervised.MultipartiteRank()\n",
    "\n",
    "stoplist = list(string.punctuation)\n",
    "stoplist += pke.lang.stopwords.get('ru')\n",
    "\n",
    "# 2. load the content of the document.\n",
    "extractor_multipartiterank.load_document(input=text,\n",
    "                                         language=\"ru\",\n",
    "                                         stoplist=stoplist)\n",
    "\n",
    "# 3. select the longest sequences of nouns and adjectives, that do\n",
    "#    not contain punctuation marks or stopwords as candidates.\n",
    "pos = {'NOUN', 'PROPN'}\n",
    "extractor_multipartiterank.candidate_selection(pos=pos)\n",
    "\n",
    "# 4. build the Multipartite graph and rank candidates using random\n",
    "#    walk, alpha controls the weight adjustment mechanism, see\n",
    "#    TopicRank for threshold/method parameters.\n",
    "extractor_multipartiterank.candidate_weighting(alpha=1.5,\n",
    "                                               threshold=0.25,\n",
    "                                               method='average')\n"
   ]
  },
  {
   "cell_type": "code",
   "execution_count": 13,
   "id": "497f7ea2-5211-4d15-8e17-9e38589850a1",
   "metadata": {
    "id": "497f7ea2-5211-4d15-8e17-9e38589850a1",
    "outputId": "67adaed3-2b21-42b5-ef61-9d73af2d7c9b"
   },
   "outputs": [
    {
     "data": {
      "text/plain": [
       "[('электив', 0.04366968008791535),\n",
       " ('преподаватель', 0.029052902571779293),\n",
       " ('пары', 0.026348506959864387),\n",
       " ('задания', 0.01882588699619859),\n",
       " ('лекции', 0.01401080222374473),\n",
       " ('баллы', 0.01267645705351588),\n",
       " ('работы', 0.011460256698121481),\n",
       " ('тему', 0.011015522535422546),\n",
       " ('элективом', 0.010614899230453605),\n",
       " ('занятия', 0.010054305019815116),\n",
       " ('практики', 0.00932047923995928),\n",
       " ('курса', 0.008613943996838519),\n",
       " ('студентам', 0.00849804935722269),\n",
       " ('информации', 0.008231521788113559),\n",
       " ('презентации', 0.008070599446386283),\n",
       " ('зачёт', 0.007795361237515503),\n",
       " ('тест', 0.007423200436219892),\n",
       " ('вопросы', 0.007116353445979112),\n",
       " ('материал', 0.006758269606736994),\n",
       " ('знаний', 0.006449717215196795),\n",
       " ('предмета', 0.005557074458146722),\n",
       " ('целом', 0.005529209491101293),\n",
       " ('языке', 0.004640493369427495),\n",
       " ('группы', 0.004626151577285963),\n",
       " ('проект', 0.004623502161208501),\n",
       " ('время', 0.004042613657103062),\n",
       " ('фильмы', 0.003950389819192411),\n",
       " ('преподавательница', 0.0038461290267977847),\n",
       " ('жизни', 0.003820878039011613),\n",
       " ('истории', 0.003669849845155309),\n",
       " ('раз', 0.0036482641508010995),\n",
       " ('доклада', 0.003569286880269889),\n",
       " ('человек', 0.0035349795265272074),\n",
       " ('конце', 0.0035327970819782712),\n",
       " ('семинаре', 0.0034957888480247066),\n",
       " ('ответы', 0.003143832430659153),\n",
       " ('делами', 0.0030501250405925084),\n",
       " ('тексты', 0.0029500939200400563),\n",
       " ('игр', 0.002911614375809047),\n",
       " ('семестр', 0.002898030022871626),\n",
       " ('теорию', 0.002866770755834594),\n",
       " ('направлений', 0.002695098094350612),\n",
       " ('задачи', 0.0026834838300328185),\n",
       " ('людях', 0.0026319737428872297),\n",
       " ('времени', 0.0025570600221052537),\n",
       " ('возможность', 0.0023865023629062697),\n",
       " ('плюсов', 0.002371040342276726),\n",
       " ('командах', 0.0023605710100965465),\n",
       " ('домашки', 0.0023572419017958974),\n",
       " ('словах', 0.0022872445156995177),\n",
       " ('мнению', 0.0022373785317754053),\n",
       " ('части', 0.0021877746147868833),\n",
       " ('препод', 0.002185498201054252),\n",
       " ('навыки', 0.0021048874587665588),\n",
       " ('момент', 0.002087942802451572),\n",
       " ('программе', 0.0020602809434511846),\n",
       " ('автомат', 0.0019659889328368526),\n",
       " ('женщина', 0.0018865430632560502),\n",
       " ('примерами', 0.0018367663043087562),\n",
       " ('книги', 0.001762281372339114),\n",
       " ('выступление', 0.0017312860475917002),\n",
       " ('итогу', 0.0016689246137221165),\n",
       " ('право', 0.0016684497261800213),\n",
       " ('ситуаций', 0.0016684168604577483),\n",
       " ('минусы', 0.001649970671851752),\n",
       " ('дисциплину', 0.0016483301565978412),\n",
       " ('конце семестра', 0.0016251106649465405),\n",
       " ('аудиторией', 0.0015669096749334759),\n",
       " ('недели', 0.0015613249827851232),\n",
       " ('подход', 0.0015171582704419121),\n",
       " ('ничтожество', 0.0015145801466412221),\n",
       " ('желанием', 0.001509991959038157),\n",
       " ('посещением', 0.0015078883291486634),\n",
       " ('материалов', 0.0014990739337959133),\n",
       " ('стране', 0.0014904334370929955),\n",
       " ('удовольствие', 0.001451399952859053),\n",
       " ('эссе', 0.0014362396829445852),\n",
       " ('формате', 0.0013809545541328642),\n",
       " ('бизнеса', 0.0013743018516922136),\n",
       " ('ученикам', 0.001364404921512173),\n",
       " ('биологии', 0.0013330312488455051),\n",
       " ('факты', 0.0013266340987707341),\n",
       " ('обсуждение', 0.0013161892980577859),\n",
       " ('обучение', 0.001309857732422583),\n",
       " ('литература', 0.0013006799938762778),\n",
       " ('вещей', 0.0012722513962497603),\n",
       " ('впечатление', 0.0012530086311547688),\n",
       " ('ошибки', 0.0012473012337307912),\n",
       " ('оценки', 0.0012405396226715744),\n",
       " ('минуты', 0.0012396120630282664),\n",
       " ('внимание', 0.0012303478963882075),\n",
       " ('проблема', 0.0012303074533911741),\n",
       " ('тип', 0.0012259922866279915),\n",
       " ('интернете', 0.0011974269520071076),\n",
       " ('дом', 0.001174925197095875),\n",
       " ('принципе', 0.0011700473804964983),\n",
       " ('спасибо', 0.0011620816203750475),\n",
       " ('психологии', 0.0011612519531312422),\n",
       " ('произведении', 0.0011575220125528717),\n",
       " ('специальности', 0.001140983396336144)]"
      ]
     },
     "execution_count": 13,
     "metadata": {},
     "output_type": "execute_result"
    }
   ],
   "source": [
    "# 5. get the 20-highest scored candidates as keyphrases\n",
    "keyphrases_multipartiterank = extractor_multipartiterank.get_n_best(n=100)\n",
    "keyphrases_multipartiterank"
   ]
  },
  {
   "cell_type": "code",
   "execution_count": null,
   "id": "91316995-d219-4456-b553-787f2d2f3bb6",
   "metadata": {
    "id": "91316995-d219-4456-b553-787f2d2f3bb6"
   },
   "outputs": [],
   "source": []
  },
  {
   "cell_type": "code",
   "execution_count": null,
   "id": "d06a6968-b06a-41c7-85cc-0c1bc25f7d33",
   "metadata": {
    "id": "d06a6968-b06a-41c7-85cc-0c1bc25f7d33"
   },
   "outputs": [],
   "source": []
  }
 ],
 "metadata": {
  "colab": {
   "provenance": []
  },
  "kernelspec": {
   "display_name": "Python 3 (ipykernel)",
   "language": "python",
   "name": "python3"
  },
  "language_info": {
   "codemirror_mode": {
    "name": "ipython",
    "version": 3
   },
   "file_extension": ".py",
   "mimetype": "text/x-python",
   "name": "python",
   "nbconvert_exporter": "python",
   "pygments_lexer": "ipython3",
   "version": "3.10.13"
  }
 },
 "nbformat": 4,
 "nbformat_minor": 5
}
