{
 "cells": [
  {
   "cell_type": "code",
   "execution_count": 1,
   "id": "8d97aa9b-82b3-4c09-96ba-fa1e515d1069",
   "metadata": {},
   "outputs": [],
   "source": [
    "from pathlib import Path\n",
    "import pandas as pd\n",
    "\n",
    "# pip install git+https://github.com/boudinfl/pke.git\n",
    "# pke relies on spacy (>= 3.2.3) for text processing and requires models to be installed:\n",
    "# # download the english model\n",
    "# python -m spacy download en_core_web_sm\n",
    "import pke"
   ]
  },
  {
   "cell_type": "code",
   "execution_count": 8,
   "id": "8e24e19f-6437-4109-afe4-848aeb83caaf",
   "metadata": {},
   "outputs": [],
   "source": [
    "all_df = pd.read_csv(\"dest/all_dataset.csv\", sep=\";\")\n",
    "all_df = all_df[all_df[\"rubrics\"].str.contains('Образование_онлайн_курсы')]"
   ]
  },
  {
   "cell_type": "code",
   "execution_count": 9,
   "id": "154ea671-949c-4680-a4fb-8355e334f3d9",
   "metadata": {},
   "outputs": [],
   "source": [
    "text = \" \".join(list(all_df['text'].dropna().astype(\"str\")))[:1000000]"
   ]
  },
  {
   "cell_type": "code",
   "execution_count": 10,
   "id": "2ae159cb-ed3f-4fa4-a7d8-3f2cd89ccb71",
   "metadata": {},
   "outputs": [],
   "source": [
    "\n",
    "# define the set of valid Part-of-Speeches\n",
    "pos = {'NOUN', 'PROPN', 'ADJ'}\n",
    "\n",
    "# 1. create a SingleRank extractor.\n",
    "extractor = pke.unsupervised.SingleRank()\n",
    "\n",
    "# 2. load the content of the document.\n",
    "extractor.load_document(input=text,\n",
    "                        language='ru',\n",
    "                        normalization=None)\n",
    "\n",
    "# 3. select the longest sequences of nouns and adjectives as candidates.\n",
    "extractor.candidate_selection(pos=pos)\n",
    "\n",
    "# 4. weight the candidates using the sum of their word's scores that are\n",
    "#    computed using random walk. In the graph, nodes are words of\n",
    "#    certain part-of-speech (nouns and adjectives) that are connected if\n",
    "#    they occur in a window of 10 words.\n",
    "extractor.candidate_weighting(window=10,\n",
    "                              pos=pos)\n",
    "\n",
    "# 5. get the 10-highest scored candidates as keyphrases\n",
    "keyphrases = extractor.get_n_best(n=10)\n"
   ]
  },
  {
   "cell_type": "code",
   "execution_count": 11,
   "id": "560abccb-aebb-428f-90e1-817d3b8de2d7",
   "metadata": {},
   "outputs": [
    {
     "data": {
      "text/plain": [
       "[('данный электив интересный электив', 0.02662816459361012),\n",
       " ('электив сам электив', 0.023828254952605966),\n",
       " ('электив замечательный преподаватель рамзия ахмаровна', 0.01862670117034687),\n",
       " ('целом интересный курс', 0.0186219256458276),\n",
       " ('курс нужно', 0.018582123548682328),\n",
       " ('курс обучения', 0.01839208988982352),\n",
       " ('целом курс хороший', 0.018325158152650546),\n",
       " ('электив - хорошая возможность', 0.01821776993474377),\n",
       " ('целом данный курс', 0.018080183684864783),\n",
       " ('объемные задания интересный электив', 0.0180497803651325)]"
      ]
     },
     "execution_count": 11,
     "metadata": {},
     "output_type": "execute_result"
    }
   ],
   "source": [
    "keyphrases"
   ]
  },
  {
   "cell_type": "code",
   "execution_count": null,
   "id": "a11fb45c-149e-45be-8c0a-f49e43690aef",
   "metadata": {},
   "outputs": [],
   "source": []
  }
 ],
 "metadata": {
  "kernelspec": {
   "display_name": "Python 3 (ipykernel)",
   "language": "python",
   "name": "python3"
  },
  "language_info": {
   "codemirror_mode": {
    "name": "ipython",
    "version": 3
   },
   "file_extension": ".py",
   "mimetype": "text/x-python",
   "name": "python",
   "nbconvert_exporter": "python",
   "pygments_lexer": "ipython3",
   "version": "3.10.12"
  }
 },
 "nbformat": 4,
 "nbformat_minor": 5
}
