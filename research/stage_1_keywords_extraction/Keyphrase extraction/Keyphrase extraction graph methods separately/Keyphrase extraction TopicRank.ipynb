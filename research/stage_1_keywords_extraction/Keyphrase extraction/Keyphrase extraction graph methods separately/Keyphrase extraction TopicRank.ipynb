{
 "cells": [
  {
   "cell_type": "code",
   "execution_count": 4,
   "id": "a5b735d2-b87f-49da-bd7f-f982ffd02630",
   "metadata": {},
   "outputs": [],
   "source": [
    "from pathlib import Path\n",
    "import pandas as pd\n",
    "\n",
    "# pip install git+https://github.com/boudinfl/pke.git\n",
    "# pke relies on spacy (>= 3.2.3) for text processing and requires models to be installed:\n",
    "# # download the english model\n",
    "# python -m spacy download en_core_web_sm\n",
    "import pke"
   ]
  },
  {
   "cell_type": "code",
   "execution_count": 5,
   "id": "de42c486-bebc-4dc3-b9a1-9e8884dc97fd",
   "metadata": {},
   "outputs": [],
   "source": [
    "all_df = pd.read_csv(\"dest/all_dataset.csv\", sep=\";\")\n",
    "all_df = all_df[all_df[\"rubrics\"].str.contains('Образование_онлайн_курсы')]"
   ]
  },
  {
   "cell_type": "code",
   "execution_count": 6,
   "id": "53d88d9b-46ce-415f-a9e1-fe367ba73ff1",
   "metadata": {},
   "outputs": [],
   "source": [
    "text = \" \".join(list(all_df['text'].dropna().astype(\"str\")))[:1000000]"
   ]
  },
  {
   "cell_type": "code",
   "execution_count": 7,
   "id": "bda830d2-be9e-46d7-b987-58adc404c9c8",
   "metadata": {},
   "outputs": [],
   "source": [
    "# initialize keyphrase extraction model, here TopicRank\n",
    "extractor = pke.unsupervised.TopicRank()\n",
    "\n",
    "# load the content of the document, here document is expected to be a simple \n",
    "# test string and preprocessing is carried out using spacy\n",
    "extractor.load_document(input=text, language='ru')\n",
    "\n",
    "# keyphrase candidate selection, in the case of TopicRank: sequences of nouns\n",
    "# and adjectives (i.e. `(Noun|Adj)*`)\n",
    "extractor.candidate_selection()\n",
    "\n",
    "# candidate weighting, in the case of TopicRank: using a random walk algorithm\n",
    "extractor.candidate_weighting()\n",
    "\n",
    "# N-best selection, keyphrases contains the 10 highest scored candidates as\n",
    "# (keyphrase, score) tuples\n",
    "keyphrases = extractor.get_n_best(n=10)\n"
   ]
  },
  {
   "cell_type": "code",
   "execution_count": 8,
   "id": "ef57c42e-4f07-4938-84e1-ea559f9a3b95",
   "metadata": {},
   "outputs": [
    {
     "data": {
      "text/plain": [
       "[('электив', 0.04455085089452394),\n",
       " ('преподаватель готов', 0.032208107028346096),\n",
       " ('интересно', 0.027723820612617453),\n",
       " ('пары', 0.02495193706862626),\n",
       " ('баллы', 0.024252330790200928),\n",
       " ('презентации', 0.0166719198876522),\n",
       " ('сложно', 0.016435143839852187),\n",
       " ('практические занятия', 0.014042496106891001),\n",
       " ('работы', 0.013977205669890476),\n",
       " ('практики', 0.011965519079162283)]"
      ]
     },
     "execution_count": 8,
     "metadata": {},
     "output_type": "execute_result"
    }
   ],
   "source": [
    "keyphrases"
   ]
  },
  {
   "cell_type": "code",
   "execution_count": null,
   "id": "2f533839-6c34-4dca-98f3-095024969139",
   "metadata": {},
   "outputs": [],
   "source": []
  }
 ],
 "metadata": {
  "kernelspec": {
   "display_name": "Python 3 (ipykernel)",
   "language": "python",
   "name": "python3"
  },
  "language_info": {
   "codemirror_mode": {
    "name": "ipython",
    "version": 3
   },
   "file_extension": ".py",
   "mimetype": "text/x-python",
   "name": "python",
   "nbconvert_exporter": "python",
   "pygments_lexer": "ipython3",
   "version": "3.10.12"
  }
 },
 "nbformat": 4,
 "nbformat_minor": 5
}
