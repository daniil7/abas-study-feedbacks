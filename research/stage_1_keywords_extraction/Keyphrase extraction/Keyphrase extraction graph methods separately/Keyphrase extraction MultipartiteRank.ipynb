{
 "cells": [
  {
   "cell_type": "code",
   "execution_count": 6,
   "id": "a322858a-39e7-4f84-9700-24ae2ed87d1f",
   "metadata": {},
   "outputs": [],
   "source": [
    "from pathlib import Path\n",
    "import pandas as pd\n",
    "\n",
    "# pip install git+https://github.com/boudinfl/pke.git\n",
    "# pke relies on spacy (>= 3.2.3) for text processing and requires models to be installed:\n",
    "# # download the english model\n",
    "# python -m spacy download en_core_web_sm\n",
    "import pke\n",
    "\n",
    "import string"
   ]
  },
  {
   "cell_type": "code",
   "execution_count": 7,
   "id": "cb76ddef-6435-4e37-9f83-a8eafb4710c8",
   "metadata": {},
   "outputs": [],
   "source": [
    "all_df = pd.read_csv(\"dest/all_dataset.csv\", sep=\";\")\n",
    "all_df = all_df[all_df[\"rubrics\"].str.contains('Образование_онлайн_курсы')]"
   ]
  },
  {
   "cell_type": "code",
   "execution_count": 8,
   "id": "77d02cc0-e3a0-4ba5-a2b9-90d626ba688e",
   "metadata": {},
   "outputs": [],
   "source": [
    "text = \" \".join(list(all_df['text'].dropna().astype(\"str\")))[:1000000]"
   ]
  },
  {
   "cell_type": "code",
   "execution_count": null,
   "id": "c179cec5-0ecb-4550-9093-abb8bba0237f",
   "metadata": {},
   "outputs": [],
   "source": [
    "# 1. create a MultipartiteRank extractor.\n",
    "extractor = pke.unsupervised.MultipartiteRank()\n",
    "\n",
    "stoplist = list(string.punctuation)\n",
    "stoplist += pke.lang.stopwords.get('ru')\n",
    "\n",
    "# 2. load the content of the document.\n",
    "extractor.load_document(input=text,\n",
    "                        language=\"ru\",\n",
    "                        stoplist=stoplist)\n",
    "\n",
    "# 3. select the longest sequences of nouns and adjectives, that do\n",
    "#    not contain punctuation marks or stopwords as candidates.\n",
    "pos = {'NOUN', 'PROPN', 'ADJ'}\n",
    "extractor.candidate_selection(pos=pos)\n",
    "\n",
    "# 4. build the Multipartite graph and rank candidates using random\n",
    "#    walk, alpha controls the weight adjustment mechanism, see\n",
    "#    TopicRank for threshold/method parameters.\n",
    "extractor.candidate_weighting(alpha=1.1,\n",
    "                              threshold=0.74,\n",
    "                              method='average')\n",
    "\n",
    "# 5. get the 10-highest scored candidates as keyphrases\n",
    "keyphrases = extractor.get_n_best(n=10)\n"
   ]
  },
  {
   "cell_type": "code",
   "execution_count": null,
   "id": "5b299a02-2ef5-4d21-aef8-e9bbeaca79b1",
   "metadata": {},
   "outputs": [],
   "source": [
    "keyphrases"
   ]
  },
  {
   "cell_type": "code",
   "execution_count": null,
   "id": "1f2fa7f5-2fee-441d-9b4d-deedbbf5d908",
   "metadata": {},
   "outputs": [],
   "source": []
  }
 ],
 "metadata": {
  "kernelspec": {
   "display_name": "Python 3 (ipykernel)",
   "language": "python",
   "name": "python3"
  },
  "language_info": {
   "codemirror_mode": {
    "name": "ipython",
    "version": 3
   },
   "file_extension": ".py",
   "mimetype": "text/x-python",
   "name": "python",
   "nbconvert_exporter": "python",
   "pygments_lexer": "ipython3",
   "version": "3.10.12"
  }
 },
 "nbformat": 4,
 "nbformat_minor": 5
}
