{
 "cells": [
  {
   "cell_type": "code",
   "execution_count": null,
   "id": "9b638b10-65cd-4355-bb21-508196d129fc",
   "metadata": {},
   "outputs": [],
   "source": [
    "from pathlib import Path\n",
    "import pandas as pd\n",
    "\n",
    "# pip install git+https://github.com/boudinfl/pke.git\n",
    "# pke relies on spacy (>= 3.2.3) for text processing and requires models to be installed:\n",
    "# # download the english model\n",
    "# python -m spacy download en_core_web_sm\n",
    "import pke"
   ]
  },
  {
   "cell_type": "code",
   "execution_count": null,
   "id": "f4deda9c-c953-4c9a-9790-2b9011a2e5ca",
   "metadata": {},
   "outputs": [],
   "source": [
    "all_df = pd.read_csv(\"dest/all_dataset.csv\", sep=\";\")\n",
    "all_df = all_df[all_df[\"rubrics\"].str.contains('Образование_онлайн_курсы')]"
   ]
  },
  {
   "cell_type": "code",
   "execution_count": null,
   "id": "762ed1f9-31de-4b3d-b664-3418c3226ac9",
   "metadata": {},
   "outputs": [],
   "source": [
    "text = \" \".join(list(all_df['text'].dropna().astype(\"str\")))[:1000000]"
   ]
  },
  {
   "cell_type": "code",
   "execution_count": null,
   "id": "a76811c5-f3d1-4e43-add7-081497efd68f",
   "metadata": {},
   "outputs": [],
   "source": [
    "# define the valid Part-of-Speeches to occur in the graph\n",
    "pos = {'NOUN', 'PROPN', 'ADJ'}\n",
    "\n",
    "# define the grammar for selecting the keyphrase candidates\n",
    "grammar = \"NP: {<ADJ>*<NOUN|PROPN>+}\"\n",
    "\n",
    "# 1. create a PositionRank extractor.\n",
    "extractor = pke.unsupervised.PositionRank()\n",
    "\n",
    "# 2. load the content of the document.\n",
    "extractor.load_document(input=text,\n",
    "                        language='ru',\n",
    "                        normalization=None)\n",
    "\n",
    "# 3. select the noun phrases up to 3 words as keyphrase candidates.\n",
    "extractor.candidate_selection(grammar=grammar,\n",
    "                              maximum_word_number=3)\n",
    "\n",
    "# 4. weight the candidates using the sum of their word's scores that are\n",
    "#    computed using random walk biaised with the position of the words\n",
    "#    in the document. In the graph, nodes are words (nouns and\n",
    "#    adjectives only) that are connected if they occur in a window of\n",
    "#    10 words.\n",
    "extractor.candidate_weighting(window=10,\n",
    "                              pos=pos)\n",
    "\n",
    "# 5. get the 10-highest scored candidates as keyphrases\n",
    "keyphrases = extractor.get_n_best(n=10)\n"
   ]
  },
  {
   "cell_type": "code",
   "execution_count": null,
   "id": "0de01d7f-4ccf-4688-8873-38a04cc34092",
   "metadata": {},
   "outputs": [],
   "source": [
    "keyphrases"
   ]
  }
 ],
 "metadata": {
  "kernelspec": {
   "display_name": "Python 3 (ipykernel)",
   "language": "python",
   "name": "python3"
  },
  "language_info": {
   "codemirror_mode": {
    "name": "ipython",
    "version": 3
   },
   "file_extension": ".py",
   "mimetype": "text/x-python",
   "name": "python",
   "nbconvert_exporter": "python",
   "pygments_lexer": "ipython3",
   "version": "3.10.12"
  }
 },
 "nbformat": 4,
 "nbformat_minor": 5
}
